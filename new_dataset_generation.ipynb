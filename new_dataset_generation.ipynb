{
 "cells": [
  {
   "cell_type": "markdown",
   "metadata": {},
   "source": [
    "### TAKE OUT 80 IMAGES FROM BLACK AND ORANGE CARS"
   ]
  },
  {
   "cell_type": "code",
   "execution_count": 6,
   "metadata": {},
   "outputs": [
    {
     "name": "stdout",
     "output_type": "stream",
     "text": [
      "Selected image files: ['0001', '0026', '0051', '0076', '0101', '0126', '0151', '0176', '0201', '0226', '0251', '0276', '0301', '0326', '0351', '0376', '0401', '0426', '0451', '0476', '0501', '0526', '0551', '0576', '0601', '0626', '0651', '0676', '0701', '0726', '0751', '0776', '0801', '0826', '0851', '0876', '0901', '0926', '0951', '0976', '1001', '1026', '1051', '1076', '1101', '1126', '1151', '1176', '1201', '1226', '1251', '1276', '1301', '1326', '1351', '1376', '1401', '1426', '1451', '1476', '1501', '1526', '1551', '1576', '1601', '1626', '1651', '1676', '1701', '1726', '1751', '1776', '1801', '1826', '1851', '1876', '1901', '1926', '1951', '1976', '2001']\n"
     ]
    }
   ],
   "source": [
    "import os\n",
    "import shutil\n",
    "\n",
    "def select_and_save_images(directory_path, output_image_path, output_npy_path, npy_directory_path, name, num_files=80):\n",
    "    \"\"\"\n",
    "    Selects 'num_files' number of image files from the given directory in equal intervals.\n",
    "    The selected image files are saved to one directory, and the corresponding '.npy' files\n",
    "    are matched with the image files and saved to another directory.\n",
    "\n",
    "    Parameters:\n",
    "    - directory_path: Path to the directory containing the image files.\n",
    "    - output_image_path: Path to the directory where the selected image files will be stored.\n",
    "    - output_npy_path: Path to the directory where the corresponding '.npy' files will be stored.\n",
    "    - npy_directory_path: Path to the directory containing the '.npy' files.\n",
    "    - num_files: Number of image files to select.\n",
    "\n",
    "    Returns:\n",
    "    - List of file names (without extensions) of the selected image files.\n",
    "    \"\"\"\n",
    "    if not os.path.exists(output_image_path):\n",
    "        os.makedirs(output_image_path)\n",
    "\n",
    "    if not os.path.exists(output_npy_path):\n",
    "        os.makedirs(output_npy_path)\n",
    "\n",
    "    file_list = os.listdir(directory_path)\n",
    "    image_extensions = ['.jpg', '.jpeg', '.png']  # Add other image extensions if needed\n",
    "\n",
    "    image_files = [file for file in file_list if any(file.lower().endswith(ext) for ext in image_extensions)]\n",
    "    image_files.sort()  # Sort image files for consistency\n",
    "\n",
    "    total_files = len(image_files)\n",
    "\n",
    "    if num_files >= total_files:\n",
    "        raise ValueError(\"Number of files to select is greater than or equal to the total number of image files.\")\n",
    "\n",
    "    interval = total_files // num_files\n",
    "    selected_image_files = []\n",
    "\n",
    "    for i in range(0, total_files, interval):\n",
    "        file_name, file_extension = os.path.splitext(image_files[i])\n",
    "        selected_image_files.append(file_name)\n",
    "\n",
    "        # Save selected image files\n",
    "        image_file_path = os.path.join(directory_path, image_files[i])\n",
    "        output_image_file_path = os.path.join(output_image_path, name + image_files[i])\n",
    "        shutil.copy(image_file_path, output_image_file_path)\n",
    "\n",
    "        # Matching with corresponding '.npy' files and save\n",
    "        npy_file_path = os.path.join(npy_directory_path, name + file_name + \".npy\")\n",
    "        # Assuming there is a corresponding '.npy' file for each image\n",
    "        # Replace this with the actual path or logic to get '.npy' files\n",
    "        shutil.copy(npy_file_path, os.path.join(output_npy_path, name + file_name + \".npy\"))\n",
    "\n",
    "    return selected_image_files\n",
    "\n",
    "\n",
    "\n",
    "# Example usage:\n",
    "# Example usage:\n",
    "black_path = \"./data/carseg_data/unused/images/black_5_doors/no_segmentation\"\n",
    "orange_path = \"./data/carseg_data/unused/images/orange_3_doors/no_segmentation\"\n",
    "output_path = \"./data/carseg_data/clean_arrays\"\n",
    "output_im_path = \"./data/carseg_data/clean_arrays_images\"\n",
    "npy_directory_path = \"./data/carseg_data/unused/arrays\"\n",
    "\n",
    "selected_image_files = select_and_save_images(black_path, output_im_path, output_path, npy_directory_path, \"black_5_doors_\", num_files=80)\n",
    "selected_image_files = select_and_save_images(orange_path, output_im_path, output_path, npy_directory_path, \"orange_3_doors_\",num_files=80)\n",
    "\n",
    "print(\"Selected image files:\", selected_image_files)\n"
   ]
  }
 ],
 "metadata": {
  "kernelspec": {
   "display_name": "Python 3.10.8 64-bit",
   "language": "python",
   "name": "python3"
  },
  "language_info": {
   "codemirror_mode": {
    "name": "ipython",
    "version": 3
   },
   "file_extension": ".py",
   "mimetype": "text/x-python",
   "name": "python",
   "nbconvert_exporter": "python",
   "pygments_lexer": "ipython3",
   "version": "3.10.8"
  },
  "orig_nbformat": 4,
  "vscode": {
   "interpreter": {
    "hash": "aee8b7b246df8f9039afb4144a1f6fd8d2ca17a180786b69acc140d282b71a49"
   }
  }
 },
 "nbformat": 4,
 "nbformat_minor": 2
}
