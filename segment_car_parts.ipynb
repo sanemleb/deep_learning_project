{
 "cells": [
  {
   "cell_type": "markdown",
   "metadata": {},
   "source": [
    "## FINAL PROJECT - 02456 DEEP LEARNING\n",
    "### SEGMENTATION OF CAR PARTS \n",
    "### COLLABORATION WITH DELOITTE CONSULTING\n",
    "\n",
    "#### Authors\n",
    ">*Sanem Leblebici - s222448*\n",
    "\n",
    ">*Michal Lehwark - s222999*\n",
    "\n",
    ">*Ari Menachem - s163956*\n",
    "\n",
    ">*Elli Georgiou - s223408*\n"
   ]
  },
  {
   "cell_type": "code",
   "execution_count": null,
   "metadata": {},
   "outputs": [],
   "source": []
  }
 ],
 "metadata": {
  "kernelspec": {
   "display_name": "Python 3.10.8 64-bit",
   "language": "python",
   "name": "python3"
  },
  "language_info": {
   "name": "python",
   "version": "3.10.8"
  },
  "orig_nbformat": 4,
  "vscode": {
   "interpreter": {
    "hash": "aee8b7b246df8f9039afb4144a1f6fd8d2ca17a180786b69acc140d282b71a49"
   }
  }
 },
 "nbformat": 4,
 "nbformat_minor": 2
}
