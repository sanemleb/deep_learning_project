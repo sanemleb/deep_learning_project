{
 "cells": [
  {
   "cell_type": "code",
   "execution_count": null,
   "metadata": {},
   "outputs": [],
   "source": [
    "# Used to convert .npy images to .png\n",
    "import cv2\n",
    "import numpy as np\n",
    "import os\n",
    "from glob import glob\n",
    "\n",
    "files = glob(\"C:/Users/Gabriel Gosden/Desktop/carseg_data/clean_data/*.npy\")\n",
    "for i in range(len(files)):\n",
    "  print(i,\"/\",str(len(files)))\n",
    "\n",
    "  img = np.load(files[i])\n",
    "  img_rbg = img[0:3,:,:]*255\n",
    "  img_rbg = np.einsum('kij->ijk',img_rbg)\n",
    "  img_label = img[3:4,:,:]\n",
    "  img_label = np.einsum('kij->ijk',img_label)\n",
    "  img_rbg = img_rbg[:,:,::-1]\n",
    "  \n",
    "  img_rbg_path = files[i].rsplit('clean_data',1)[0] + \"images\" + files[i].rsplit('clean_data',1)[1].replace(\".npy\", \"\") + \".png\"\n",
    "  img_label_path = files[i].rsplit('clean_data',1)[0] + \"labels\" + files[i].rsplit('clean_data',1)[1].replace(\".npy\", \"\") + \".png\"\n",
    "  print(img_rbg_path)\n",
    "  print(img_label_path)\n",
    "\n",
    "  cv2.imwrite(img_rbg_path,img_rbg.astype('uint8'))\n",
    "  cv2.imwrite(img_label_path,img_label.astype('uint8'))\n",
    "\n"
   ]
  }
 ],
 "metadata": {
  "kernelspec": {
   "display_name": "Python 3.9.5 64-bit",
   "language": "python",
   "name": "python3"
  },
  "language_info": {
   "codemirror_mode": {
    "name": "ipython",
    "version": 3
   },
   "file_extension": ".py",
   "mimetype": "text/x-python",
   "name": "python",
   "nbconvert_exporter": "python",
   "pygments_lexer": "ipython3",
   "version": "3.9.5"
  },
  "orig_nbformat": 4,
  "vscode": {
   "interpreter": {
    "hash": "5beb4f86fc933c05c626fcb83a9ab2bfaafec0191c1d7e9fe0c5887faa1e293a"
   }
  }
 },
 "nbformat": 4,
 "nbformat_minor": 2
}
